{
 "cells": [
  {
   "cell_type": "code",
   "execution_count": 1,
   "id": "5ed1fa74",
   "metadata": {},
   "outputs": [],
   "source": [
    "import pandas as pd\n",
    "import numpy as np"
   ]
  },
  {
   "cell_type": "markdown",
   "id": "e8917a4a",
   "metadata": {},
   "source": [
    "## Data Cleaning"
   ]
  },
  {
   "cell_type": "code",
   "execution_count": 2,
   "id": "9f0edb57",
   "metadata": {},
   "outputs": [
    {
     "data": {
      "text/html": [
       "<div>\n",
       "<style scoped>\n",
       "    .dataframe tbody tr th:only-of-type {\n",
       "        vertical-align: middle;\n",
       "    }\n",
       "\n",
       "    .dataframe tbody tr th {\n",
       "        vertical-align: top;\n",
       "    }\n",
       "\n",
       "    .dataframe thead th {\n",
       "        text-align: right;\n",
       "    }\n",
       "</style>\n",
       "<table border=\"1\" class=\"dataframe\">\n",
       "  <thead>\n",
       "    <tr style=\"text-align: right;\">\n",
       "      <th></th>\n",
       "      <th>1000025</th>\n",
       "      <th>5</th>\n",
       "      <th>1</th>\n",
       "      <th>1.1</th>\n",
       "      <th>1.2</th>\n",
       "      <th>2</th>\n",
       "      <th>1.3</th>\n",
       "      <th>3</th>\n",
       "      <th>1.4</th>\n",
       "      <th>1.5</th>\n",
       "      <th>2.1</th>\n",
       "    </tr>\n",
       "  </thead>\n",
       "  <tbody>\n",
       "    <tr>\n",
       "      <th>0</th>\n",
       "      <td>1002945</td>\n",
       "      <td>5</td>\n",
       "      <td>4</td>\n",
       "      <td>4</td>\n",
       "      <td>5</td>\n",
       "      <td>7</td>\n",
       "      <td>10</td>\n",
       "      <td>3</td>\n",
       "      <td>2</td>\n",
       "      <td>1</td>\n",
       "      <td>2</td>\n",
       "    </tr>\n",
       "    <tr>\n",
       "      <th>1</th>\n",
       "      <td>1015425</td>\n",
       "      <td>3</td>\n",
       "      <td>1</td>\n",
       "      <td>1</td>\n",
       "      <td>1</td>\n",
       "      <td>2</td>\n",
       "      <td>2</td>\n",
       "      <td>3</td>\n",
       "      <td>1</td>\n",
       "      <td>1</td>\n",
       "      <td>2</td>\n",
       "    </tr>\n",
       "    <tr>\n",
       "      <th>2</th>\n",
       "      <td>1016277</td>\n",
       "      <td>6</td>\n",
       "      <td>8</td>\n",
       "      <td>8</td>\n",
       "      <td>1</td>\n",
       "      <td>3</td>\n",
       "      <td>4</td>\n",
       "      <td>3</td>\n",
       "      <td>7</td>\n",
       "      <td>1</td>\n",
       "      <td>2</td>\n",
       "    </tr>\n",
       "    <tr>\n",
       "      <th>3</th>\n",
       "      <td>1017023</td>\n",
       "      <td>4</td>\n",
       "      <td>1</td>\n",
       "      <td>1</td>\n",
       "      <td>3</td>\n",
       "      <td>2</td>\n",
       "      <td>1</td>\n",
       "      <td>3</td>\n",
       "      <td>1</td>\n",
       "      <td>1</td>\n",
       "      <td>2</td>\n",
       "    </tr>\n",
       "    <tr>\n",
       "      <th>4</th>\n",
       "      <td>1017122</td>\n",
       "      <td>8</td>\n",
       "      <td>10</td>\n",
       "      <td>10</td>\n",
       "      <td>8</td>\n",
       "      <td>7</td>\n",
       "      <td>10</td>\n",
       "      <td>9</td>\n",
       "      <td>7</td>\n",
       "      <td>1</td>\n",
       "      <td>4</td>\n",
       "    </tr>\n",
       "  </tbody>\n",
       "</table>\n",
       "</div>"
      ],
      "text/plain": [
       "   1000025  5   1  1.1  1.2  2 1.3  3  1.4  1.5  2.1\n",
       "0  1002945  5   4    4    5  7  10  3    2    1    2\n",
       "1  1015425  3   1    1    1  2   2  3    1    1    2\n",
       "2  1016277  6   8    8    1  3   4  3    7    1    2\n",
       "3  1017023  4   1    1    3  2   1  3    1    1    2\n",
       "4  1017122  8  10   10    8  7  10  9    7    1    4"
      ]
     },
     "execution_count": 2,
     "metadata": {},
     "output_type": "execute_result"
    }
   ],
   "source": [
    "df = pd.read_csv('breast-cancer-wisconsin.csv')\n",
    "df.head()"
   ]
  },
  {
   "cell_type": "markdown",
   "id": "da98f23d",
   "metadata": {},
   "source": [
    "The original data is missing column names. For easier analysis, we add the column names to the dataset and reload the data without header. "
   ]
  },
  {
   "cell_type": "code",
   "execution_count": 3,
   "id": "50e71636",
   "metadata": {},
   "outputs": [
    {
     "data": {
      "text/html": [
       "<div>\n",
       "<style scoped>\n",
       "    .dataframe tbody tr th:only-of-type {\n",
       "        vertical-align: middle;\n",
       "    }\n",
       "\n",
       "    .dataframe tbody tr th {\n",
       "        vertical-align: top;\n",
       "    }\n",
       "\n",
       "    .dataframe thead th {\n",
       "        text-align: right;\n",
       "    }\n",
       "</style>\n",
       "<table border=\"1\" class=\"dataframe\">\n",
       "  <thead>\n",
       "    <tr style=\"text-align: right;\">\n",
       "      <th></th>\n",
       "      <th>Sample_code_number</th>\n",
       "      <th>Clump_Thickness</th>\n",
       "      <th>Uniformity_of_Cell_Size</th>\n",
       "      <th>Uniformity_of_Cell_Shape</th>\n",
       "      <th>Marginal_Adhesion</th>\n",
       "      <th>Single_Epithelial_Cell_Size</th>\n",
       "      <th>Bare_Nuclei</th>\n",
       "      <th>Bland_Chromatin</th>\n",
       "      <th>Normal_Nucleoli</th>\n",
       "      <th>Mitoses</th>\n",
       "      <th>Class</th>\n",
       "    </tr>\n",
       "  </thead>\n",
       "  <tbody>\n",
       "    <tr>\n",
       "      <th>0</th>\n",
       "      <td>1000025</td>\n",
       "      <td>5</td>\n",
       "      <td>1</td>\n",
       "      <td>1</td>\n",
       "      <td>1</td>\n",
       "      <td>2</td>\n",
       "      <td>1</td>\n",
       "      <td>3</td>\n",
       "      <td>1</td>\n",
       "      <td>1</td>\n",
       "      <td>2</td>\n",
       "    </tr>\n",
       "    <tr>\n",
       "      <th>1</th>\n",
       "      <td>1002945</td>\n",
       "      <td>5</td>\n",
       "      <td>4</td>\n",
       "      <td>4</td>\n",
       "      <td>5</td>\n",
       "      <td>7</td>\n",
       "      <td>10</td>\n",
       "      <td>3</td>\n",
       "      <td>2</td>\n",
       "      <td>1</td>\n",
       "      <td>2</td>\n",
       "    </tr>\n",
       "    <tr>\n",
       "      <th>2</th>\n",
       "      <td>1015425</td>\n",
       "      <td>3</td>\n",
       "      <td>1</td>\n",
       "      <td>1</td>\n",
       "      <td>1</td>\n",
       "      <td>2</td>\n",
       "      <td>2</td>\n",
       "      <td>3</td>\n",
       "      <td>1</td>\n",
       "      <td>1</td>\n",
       "      <td>2</td>\n",
       "    </tr>\n",
       "    <tr>\n",
       "      <th>3</th>\n",
       "      <td>1016277</td>\n",
       "      <td>6</td>\n",
       "      <td>8</td>\n",
       "      <td>8</td>\n",
       "      <td>1</td>\n",
       "      <td>3</td>\n",
       "      <td>4</td>\n",
       "      <td>3</td>\n",
       "      <td>7</td>\n",
       "      <td>1</td>\n",
       "      <td>2</td>\n",
       "    </tr>\n",
       "    <tr>\n",
       "      <th>4</th>\n",
       "      <td>1017023</td>\n",
       "      <td>4</td>\n",
       "      <td>1</td>\n",
       "      <td>1</td>\n",
       "      <td>3</td>\n",
       "      <td>2</td>\n",
       "      <td>1</td>\n",
       "      <td>3</td>\n",
       "      <td>1</td>\n",
       "      <td>1</td>\n",
       "      <td>2</td>\n",
       "    </tr>\n",
       "  </tbody>\n",
       "</table>\n",
       "</div>"
      ],
      "text/plain": [
       "   Sample_code_number  Clump_Thickness  Uniformity_of_Cell_Size  \\\n",
       "0             1000025                5                        1   \n",
       "1             1002945                5                        4   \n",
       "2             1015425                3                        1   \n",
       "3             1016277                6                        8   \n",
       "4             1017023                4                        1   \n",
       "\n",
       "   Uniformity_of_Cell_Shape  Marginal_Adhesion  Single_Epithelial_Cell_Size  \\\n",
       "0                         1                  1                            2   \n",
       "1                         4                  5                            7   \n",
       "2                         1                  1                            2   \n",
       "3                         8                  1                            3   \n",
       "4                         1                  3                            2   \n",
       "\n",
       "  Bare_Nuclei  Bland_Chromatin  Normal_Nucleoli  Mitoses  Class  \n",
       "0           1                3                1        1      2  \n",
       "1          10                3                2        1      2  \n",
       "2           2                3                1        1      2  \n",
       "3           4                3                7        1      2  \n",
       "4           1                3                1        1      2  "
      ]
     },
     "execution_count": 3,
     "metadata": {},
     "output_type": "execute_result"
    }
   ],
   "source": [
    "df = pd.read_csv('breast-cancer-wisconsin.csv', header=None)\n",
    "df.columns = [\"Sample_code_number\", \"Clump_Thickness\", \"Uniformity_of_Cell_Size\",\"Uniformity_of_Cell_Shape\",\n",
    "\"Marginal_Adhesion\", \"Single_Epithelial_Cell_Size\", \"Bare_Nuclei\", \"Bland_Chromatin\",\n",
    "\"Normal_Nucleoli\", \"Mitoses\",\"Class\"]\n",
    "df.head()"
   ]
  },
  {
   "cell_type": "code",
   "execution_count": 4,
   "id": "46946996",
   "metadata": {},
   "outputs": [
    {
     "data": {
      "text/plain": [
       "(699, 11)"
      ]
     },
     "execution_count": 4,
     "metadata": {},
     "output_type": "execute_result"
    }
   ],
   "source": [
    "df.shape"
   ]
  },
  {
   "cell_type": "markdown",
   "id": "ed92db9a",
   "metadata": {},
   "source": [
    "The data is now of desired number of rows and columns as described."
   ]
  },
  {
   "cell_type": "code",
   "execution_count": 5,
   "id": "f0d17327",
   "metadata": {},
   "outputs": [
    {
     "name": "stdout",
     "output_type": "stream",
     "text": [
      "<class 'pandas.core.frame.DataFrame'>\n",
      "RangeIndex: 699 entries, 0 to 698\n",
      "Data columns (total 11 columns):\n",
      " #   Column                       Non-Null Count  Dtype \n",
      "---  ------                       --------------  ----- \n",
      " 0   Sample_code_number           699 non-null    int64 \n",
      " 1   Clump_Thickness              699 non-null    int64 \n",
      " 2   Uniformity_of_Cell_Size      699 non-null    int64 \n",
      " 3   Uniformity_of_Cell_Shape     699 non-null    int64 \n",
      " 4   Marginal_Adhesion            699 non-null    int64 \n",
      " 5   Single_Epithelial_Cell_Size  699 non-null    int64 \n",
      " 6   Bare_Nuclei                  699 non-null    object\n",
      " 7   Bland_Chromatin              699 non-null    int64 \n",
      " 8   Normal_Nucleoli              699 non-null    int64 \n",
      " 9   Mitoses                      699 non-null    int64 \n",
      " 10  Class                        699 non-null    int64 \n",
      "dtypes: int64(10), object(1)\n",
      "memory usage: 60.2+ KB\n"
     ]
    }
   ],
   "source": [
    "df.info()"
   ]
  },
  {
   "cell_type": "markdown",
   "id": "f37179af",
   "metadata": {},
   "source": [
    "There are no null values in the dataset. However, according to the description of the dataset, all columns should only contain integer values. The 'Bare_Nuclei' column has type object, meaning that there are some non-numeric values. We need to further examine the 'Bare_Nuclei' column. "
   ]
  },
  {
   "cell_type": "code",
   "execution_count": 6,
   "id": "b69a9498",
   "metadata": {},
   "outputs": [
    {
     "data": {
      "text/plain": [
       "array(['1', '10', '2', '4', '3', '9', '7', '?', '5', '8', '6'],\n",
       "      dtype=object)"
      ]
     },
     "execution_count": 6,
     "metadata": {},
     "output_type": "execute_result"
    }
   ],
   "source": [
    "df['Bare_Nuclei'].unique()\n"
   ]
  },
  {
   "cell_type": "code",
   "execution_count": 7,
   "id": "d1d164ed",
   "metadata": {},
   "outputs": [
    {
     "data": {
      "text/plain": [
       "16"
      ]
     },
     "execution_count": 7,
     "metadata": {},
     "output_type": "execute_result"
    }
   ],
   "source": [
    "len(df[df['Bare_Nuclei']=='?'])"
   ]
  },
  {
   "cell_type": "code",
   "execution_count": 8,
   "id": "dd9dde59",
   "metadata": {},
   "outputs": [
    {
     "data": {
      "text/plain": [
       "16"
      ]
     },
     "execution_count": 8,
     "metadata": {},
     "output_type": "execute_result"
    }
   ],
   "source": [
    "df.apply(pd.to_numeric, errors='coerce', downcast='integer')['Bare_Nuclei'].isnull().sum()"
   ]
  },
  {
   "cell_type": "markdown",
   "id": "2bdb7cfc",
   "metadata": {},
   "source": [
    "We see that '?' is included in the values in addition to the expected values, and there are 16 rows with '?'. If we try to turn the values in 'Bare_Nuclei' column to nuermic, there are 16 null values, which means that these 16 rows are missing 'Bare_Nuclei' in the dataset and the missing values are indicated by '?' at first.   \n",
    "The percentage of missing data is about 2% which is low. It should be acceptable to drop these rows. "
   ]
  },
  {
   "cell_type": "code",
   "execution_count": 9,
   "id": "543083e5",
   "metadata": {},
   "outputs": [],
   "source": [
    "df = df.apply(pd.to_numeric, errors='coerce')\n",
    "df.dropna(inplace=True)"
   ]
  },
  {
   "cell_type": "code",
   "execution_count": 10,
   "id": "9eb279e8",
   "metadata": {},
   "outputs": [
    {
     "name": "stdout",
     "output_type": "stream",
     "text": [
      "<class 'pandas.core.frame.DataFrame'>\n",
      "Int64Index: 683 entries, 0 to 698\n",
      "Data columns (total 11 columns):\n",
      " #   Column                       Non-Null Count  Dtype  \n",
      "---  ------                       --------------  -----  \n",
      " 0   Sample_code_number           683 non-null    int64  \n",
      " 1   Clump_Thickness              683 non-null    int64  \n",
      " 2   Uniformity_of_Cell_Size      683 non-null    int64  \n",
      " 3   Uniformity_of_Cell_Shape     683 non-null    int64  \n",
      " 4   Marginal_Adhesion            683 non-null    int64  \n",
      " 5   Single_Epithelial_Cell_Size  683 non-null    int64  \n",
      " 6   Bare_Nuclei                  683 non-null    float64\n",
      " 7   Bland_Chromatin              683 non-null    int64  \n",
      " 8   Normal_Nucleoli              683 non-null    int64  \n",
      " 9   Mitoses                      683 non-null    int64  \n",
      " 10  Class                        683 non-null    int64  \n",
      "dtypes: float64(1), int64(10)\n",
      "memory usage: 64.0 KB\n"
     ]
    }
   ],
   "source": [
    "df.info()"
   ]
  },
  {
   "cell_type": "markdown",
   "id": "76b6e355",
   "metadata": {},
   "source": [
    "After cleaning the data, we have 683 obersvations. We may change the type of 'Bare_Nuclei' column to be consistent with other columns."
   ]
  },
  {
   "cell_type": "code",
   "execution_count": 11,
   "id": "87bc3de6",
   "metadata": {},
   "outputs": [],
   "source": [
    "df['Bare_Nuclei'] = df['Bare_Nuclei'].astype(np.int64) "
   ]
  },
  {
   "cell_type": "code",
   "execution_count": 12,
   "id": "251cf12e",
   "metadata": {},
   "outputs": [
    {
     "name": "stdout",
     "output_type": "stream",
     "text": [
      "<class 'pandas.core.frame.DataFrame'>\n",
      "Int64Index: 683 entries, 0 to 698\n",
      "Data columns (total 11 columns):\n",
      " #   Column                       Non-Null Count  Dtype\n",
      "---  ------                       --------------  -----\n",
      " 0   Sample_code_number           683 non-null    int64\n",
      " 1   Clump_Thickness              683 non-null    int64\n",
      " 2   Uniformity_of_Cell_Size      683 non-null    int64\n",
      " 3   Uniformity_of_Cell_Shape     683 non-null    int64\n",
      " 4   Marginal_Adhesion            683 non-null    int64\n",
      " 5   Single_Epithelial_Cell_Size  683 non-null    int64\n",
      " 6   Bare_Nuclei                  683 non-null    int64\n",
      " 7   Bland_Chromatin              683 non-null    int64\n",
      " 8   Normal_Nucleoli              683 non-null    int64\n",
      " 9   Mitoses                      683 non-null    int64\n",
      " 10  Class                        683 non-null    int64\n",
      "dtypes: int64(11)\n",
      "memory usage: 64.0 KB\n"
     ]
    }
   ],
   "source": [
    "df.info()"
   ]
  },
  {
   "cell_type": "markdown",
   "id": "caeac3d0",
   "metadata": {},
   "source": [
    "## Preliminary data anaysis\n",
    "Since this is a classification problem, we need to determine if the class is skewed."
   ]
  },
  {
   "cell_type": "code",
   "execution_count": 13,
   "id": "251852e5",
   "metadata": {},
   "outputs": [
    {
     "data": {
      "image/png": "[encoded data removed]",
      "text/plain": [
       "<Figure size 432x288 with 1 Axes>"
      ]
     },
     "metadata": {},
     "output_type": "display_data"
    }
   ],
   "source": [
    "import matplotlib.pyplot as plt\n",
    "aggsum = df.Sample_code_number.groupby(df.Class).sum()\n",
    "plt.pie(aggsum, labels=aggsum.index, autopct='%1.0f%%')\n",
    "plt.show()\n"
   ]
  },
  {
   "cell_type": "markdown",
   "id": "74cabab6",
   "metadata": {},
   "source": [
    "We see that 67% of the data has class benign (class 2) so the data is a bit skewed towards class benign. This may influence the result of the model but we still proceed as this imbalance between classes is not significant. We may adjust the sampling method to improve."
   ]
  },
  {
   "cell_type": "code",
   "execution_count": 14,
   "id": "32914a1b",
   "metadata": {},
   "outputs": [
    {
     "data": {
      "text/html": [
       "<div>\n",
       "<style scoped>\n",
       "    .dataframe tbody tr th:only-of-type {\n",
       "        vertical-align: middle;\n",
       "    }\n",
       "\n",
       "    .dataframe tbody tr th {\n",
       "        vertical-align: top;\n",
       "    }\n",
       "\n",
       "    .dataframe thead th {\n",
       "        text-align: right;\n",
       "    }\n",
       "</style>\n",
       "<table border=\"1\" class=\"dataframe\">\n",
       "  <thead>\n",
       "    <tr style=\"text-align: right;\">\n",
       "      <th></th>\n",
       "      <th>Clump_Thickness</th>\n",
       "      <th>Uniformity_of_Cell_Size</th>\n",
       "      <th>Uniformity_of_Cell_Shape</th>\n",
       "      <th>Marginal_Adhesion</th>\n",
       "      <th>Single_Epithelial_Cell_Size</th>\n",
       "      <th>Bare_Nuclei</th>\n",
       "      <th>Bland_Chromatin</th>\n",
       "      <th>Normal_Nucleoli</th>\n",
       "      <th>Mitoses</th>\n",
       "      <th>Class</th>\n",
       "    </tr>\n",
       "  </thead>\n",
       "  <tbody>\n",
       "    <tr>\n",
       "      <th>count</th>\n",
       "      <td>683.000000</td>\n",
       "      <td>683.000000</td>\n",
       "      <td>683.000000</td>\n",
       "      <td>683.000000</td>\n",
       "      <td>683.000000</td>\n",
       "      <td>683.000000</td>\n",
       "      <td>683.000000</td>\n",
       "      <td>683.000000</td>\n",
       "      <td>683.000000</td>\n",
       "      <td>683.000000</td>\n",
       "    </tr>\n",
       "    <tr>\n",
       "      <th>mean</th>\n",
       "      <td>4.442167</td>\n",
       "      <td>3.150805</td>\n",
       "      <td>3.215227</td>\n",
       "      <td>2.830161</td>\n",
       "      <td>3.234261</td>\n",
       "      <td>3.544656</td>\n",
       "      <td>3.445095</td>\n",
       "      <td>2.869693</td>\n",
       "      <td>1.603221</td>\n",
       "      <td>2.699854</td>\n",
       "    </tr>\n",
       "    <tr>\n",
       "      <th>std</th>\n",
       "      <td>2.820761</td>\n",
       "      <td>3.065145</td>\n",
       "      <td>2.988581</td>\n",
       "      <td>2.864562</td>\n",
       "      <td>2.223085</td>\n",
       "      <td>3.643857</td>\n",
       "      <td>2.449697</td>\n",
       "      <td>3.052666</td>\n",
       "      <td>1.732674</td>\n",
       "      <td>0.954592</td>\n",
       "    </tr>\n",
       "    <tr>\n",
       "      <th>min</th>\n",
       "      <td>1.000000</td>\n",
       "      <td>1.000000</td>\n",
       "      <td>1.000000</td>\n",
       "      <td>1.000000</td>\n",
       "      <td>1.000000</td>\n",
       "      <td>1.000000</td>\n",
       "      <td>1.000000</td>\n",
       "      <td>1.000000</td>\n",
       "      <td>1.000000</td>\n",
       "      <td>2.000000</td>\n",
       "    </tr>\n",
       "    <tr>\n",
       "      <th>25%</th>\n",
       "      <td>2.000000</td>\n",
       "      <td>1.000000</td>\n",
       "      <td>1.000000</td>\n",
       "      <td>1.000000</td>\n",
       "      <td>2.000000</td>\n",
       "      <td>1.000000</td>\n",
       "      <td>2.000000</td>\n",
       "      <td>1.000000</td>\n",
       "      <td>1.000000</td>\n",
       "      <td>2.000000</td>\n",
       "    </tr>\n",
       "    <tr>\n",
       "      <th>50%</th>\n",
       "      <td>4.000000</td>\n",
       "      <td>1.000000</td>\n",
       "      <td>1.000000</td>\n",
       "      <td>1.000000</td>\n",
       "      <td>2.000000</td>\n",
       "      <td>1.000000</td>\n",
       "      <td>3.000000</td>\n",
       "      <td>1.000000</td>\n",
       "      <td>1.000000</td>\n",
       "      <td>2.000000</td>\n",
       "    </tr>\n",
       "    <tr>\n",
       "      <th>75%</th>\n",
       "      <td>6.000000</td>\n",
       "      <td>5.000000</td>\n",
       "      <td>5.000000</td>\n",
       "      <td>4.000000</td>\n",
       "      <td>4.000000</td>\n",
       "      <td>6.000000</td>\n",
       "      <td>5.000000</td>\n",
       "      <td>4.000000</td>\n",
       "      <td>1.000000</td>\n",
       "      <td>4.000000</td>\n",
       "    </tr>\n",
       "    <tr>\n",
       "      <th>max</th>\n",
       "      <td>10.000000</td>\n",
       "      <td>10.000000</td>\n",
       "      <td>10.000000</td>\n",
       "      <td>10.000000</td>\n",
       "      <td>10.000000</td>\n",
       "      <td>10.000000</td>\n",
       "      <td>10.000000</td>\n",
       "      <td>10.000000</td>\n",
       "      <td>10.000000</td>\n",
       "      <td>4.000000</td>\n",
       "    </tr>\n",
       "  </tbody>\n",
       "</table>\n",
       "</div>"
      ],
      "text/plain": [
       "       Clump_Thickness  Uniformity_of_Cell_Size  Uniformity_of_Cell_Shape  \\\n",
       "count       683.000000               683.000000                683.000000   \n",
       "mean          4.442167                 3.150805                  3.215227   \n",
       "std           2.820761                 3.065145                  2.988581   \n",
       "min           1.000000                 1.000000                  1.000000   \n",
       "25%           2.000000                 1.000000                  1.000000   \n",
       "50%           4.000000                 1.000000                  1.000000   \n",
       "75%           6.000000                 5.000000                  5.000000   \n",
       "max          10.000000                10.000000                 10.000000   \n",
       "\n",
       "       Marginal_Adhesion  Single_Epithelial_Cell_Size  Bare_Nuclei  \\\n",
       "count         683.000000                   683.000000   683.000000   \n",
       "mean            2.830161                     3.234261     3.544656   \n",
       "std             2.864562                     2.223085     3.643857   \n",
       "min             1.000000                     1.000000     1.000000   \n",
       "25%             1.000000                     2.000000     1.000000   \n",
       "50%             1.000000                     2.000000     1.000000   \n",
       "75%             4.000000                     4.000000     6.000000   \n",
       "max            10.000000                    10.000000    10.000000   \n",
       "\n",
       "       Bland_Chromatin  Normal_Nucleoli     Mitoses       Class  \n",
       "count       683.000000       683.000000  683.000000  683.000000  \n",
       "mean          3.445095         2.869693    1.603221    2.699854  \n",
       "std           2.449697         3.052666    1.732674    0.954592  \n",
       "min           1.000000         1.000000    1.000000    2.000000  \n",
       "25%           2.000000         1.000000    1.000000    2.000000  \n",
       "50%           3.000000         1.000000    1.000000    2.000000  \n",
       "75%           5.000000         4.000000    1.000000    4.000000  \n",
       "max          10.000000        10.000000   10.000000    4.000000  "
      ]
     },
     "execution_count": 14,
     "metadata": {},
     "output_type": "execute_result"
    }
   ],
   "source": [
    "df.iloc[:,1:].describe() # basic statistics of the relevant featutres. Sample code number is irrelevant in predicting the class."
   ]
  },
  {
   "cell_type": "markdown",
   "id": "c4e576a2",
   "metadata": {},
   "source": [
    "The standard deviation of the relavent features are almost around the same scale but we still need to consider standardization to make sure the predicted result is not heavily affected by features of large scale."
   ]
  },
  {
   "cell_type": "code",
   "execution_count": 15,
   "id": "9eb29fdd",
   "metadata": {},
   "outputs": [
    {
     "data": {
      "image/png": "[encoded data removed]",
      "text/plain": [
       "<Figure size 432x288 with 1 Axes>"
      ]
     },
     "metadata": {
      "needs_background": "light"
     },
     "output_type": "display_data"
    },
    {
     "data": {
      "image/png": "[encoded data removed]",
      "text/plain": [
       "<Figure size 432x288 with 1 Axes>"
      ]
     },
     "metadata": {
      "needs_background": "light"
     },
     "output_type": "display_data"
    },
    {
     "data": {
      "image/png": "[encoded data removed]",
      "text/plain": [
       "<Figure size 432x288 with 1 Axes>"
      ]
     },
     "metadata": {
      "needs_background": "light"
     },
     "output_type": "display_data"
    },
    {
     "data": {
      "image/png": "[encoded data removed]",
      "text/plain": [
       "<Figure size 432x288 with 1 Axes>"
      ]
     },
     "metadata": {
      "needs_background": "light"
     },
     "output_type": "display_data"
    },
    {
     "data": {
      "image/png": "[encoded data removed]",
      "text/plain": [
       "<Figure size 432x288 with 1 Axes>"
      ]
     },
     "metadata": {
      "needs_background": "light"
     },
     "output_type": "display_data"
    },
    {
     "data": {
      "image/png": "[encoded data removed]",
      "text/plain": [
       "<Figure size 432x288 with 1 Axes>"
      ]
     },
     "metadata": {
      "needs_background": "light"
     },
     "output_type": "display_data"
    },
    {
     "data": {
      "image/png": "[encoded data removed]",
      "text/plain": [
       "<Figure size 432x288 with 1 Axes>"
      ]
     },
     "metadata": {
      "needs_background": "light"
     },
     "output_type": "display_data"
    },
    {
     "data": {
      "image/png": "[encoded data removed]",
      "text/plain": [
       "<Figure size 432x288 with 1 Axes>"
      ]
     },
     "metadata": {
      "needs_background": "light"
     },
     "output_type": "display_data"
    },
    {
     "data": {
      "image/png": "[encoded data removed]",
      "text/plain": [
       "<Figure size 432x288 with 1 Axes>"
      ]
     },
     "metadata": {
      "needs_background": "light"
     },
     "output_type": "display_data"
    }
   ],
   "source": [
    "# plot histogram for every relevant features\n",
    "for col in df.columns[1:-1]:\n",
    "    plt.hist(df[col])\n",
    "    plt.xlabel(col)\n",
    "    plt.show()\n"
   ]
  },
  {
   "cell_type": "markdown",
   "id": "b857c3e2",
   "metadata": {},
   "source": [
    "We see that almost every feature is clustered around a value and is highly skewed to the right. Clump thickness seems to have a uniform distribution.  "
   ]
  },
  {
   "cell_type": "code",
   "execution_count": 16,
   "id": "da266bfc",
   "metadata": {},
   "outputs": [
    {
     "data": {
      "text/plain": [
       "<AxesSubplot:>"
      ]
     },
     "execution_count": 16,
     "metadata": {},
     "output_type": "execute_result"
    },
    {
     "data": {
      "image/png": "[encoded data removed]",
      "text/plain": [
       "<Figure size 432x288 with 2 Axes>"
      ]
     },
     "metadata": {
      "needs_background": "light"
     },
     "output_type": "display_data"
    }
   ],
   "source": [
    "# examine correlation between all pairs of relevant features\n",
    "import seaborn as sns\n",
    "df = df.iloc[:, 1:] # remove the sample code number for future analysis\n",
    "sns.heatmap(df.corr(),annot=True)"
   ]
  },
  {
   "cell_type": "code",
   "execution_count": 17,
   "id": "d4325628",
   "metadata": {},
   "outputs": [
    {
     "data": {
      "text/html": [
       "<div>\n",
       "<style scoped>\n",
       "    .dataframe tbody tr th:only-of-type {\n",
       "        vertical-align: middle;\n",
       "    }\n",
       "\n",
       "    .dataframe tbody tr th {\n",
       "        vertical-align: top;\n",
       "    }\n",
       "\n",
       "    .dataframe thead th {\n",
       "        text-align: right;\n",
       "    }\n",
       "</style>\n",
       "<table border=\"1\" class=\"dataframe\">\n",
       "  <thead>\n",
       "    <tr style=\"text-align: right;\">\n",
       "      <th></th>\n",
       "      <th>Features</th>\n",
       "      <th>vif</th>\n",
       "    </tr>\n",
       "  </thead>\n",
       "  <tbody>\n",
       "    <tr>\n",
       "      <th>0</th>\n",
       "      <td>Clump_Thickness</td>\n",
       "      <td>7.388616</td>\n",
       "    </tr>\n",
       "    <tr>\n",
       "      <th>1</th>\n",
       "      <td>Uniformity_of_Cell_Size</td>\n",
       "      <td>14.278487</td>\n",
       "    </tr>\n",
       "    <tr>\n",
       "      <th>2</th>\n",
       "      <td>Uniformity_of_Cell_Shape</td>\n",
       "      <td>14.140133</td>\n",
       "    </tr>\n",
       "    <tr>\n",
       "      <th>3</th>\n",
       "      <td>Marginal_Adhesion</td>\n",
       "      <td>4.891961</td>\n",
       "    </tr>\n",
       "    <tr>\n",
       "      <th>4</th>\n",
       "      <td>Single_Epithelial_Cell_Size</td>\n",
       "      <td>7.907492</td>\n",
       "    </tr>\n",
       "    <tr>\n",
       "      <th>5</th>\n",
       "      <td>Bare_Nuclei</td>\n",
       "      <td>5.117965</td>\n",
       "    </tr>\n",
       "    <tr>\n",
       "      <th>6</th>\n",
       "      <td>Bland_Chromatin</td>\n",
       "      <td>8.748114</td>\n",
       "    </tr>\n",
       "    <tr>\n",
       "      <th>7</th>\n",
       "      <td>Normal_Nucleoli</td>\n",
       "      <td>4.534888</td>\n",
       "    </tr>\n",
       "    <tr>\n",
       "      <th>8</th>\n",
       "      <td>Mitoses</td>\n",
       "      <td>2.587868</td>\n",
       "    </tr>\n",
       "    <tr>\n",
       "      <th>9</th>\n",
       "      <td>Class</td>\n",
       "      <td>13.966760</td>\n",
       "    </tr>\n",
       "  </tbody>\n",
       "</table>\n",
       "</div>"
      ],
      "text/plain": [
       "                      Features        vif\n",
       "0              Clump_Thickness   7.388616\n",
       "1      Uniformity_of_Cell_Size  14.278487\n",
       "2     Uniformity_of_Cell_Shape  14.140133\n",
       "3            Marginal_Adhesion   4.891961\n",
       "4  Single_Epithelial_Cell_Size   7.907492\n",
       "5                  Bare_Nuclei   5.117965\n",
       "6              Bland_Chromatin   8.748114\n",
       "7              Normal_Nucleoli   4.534888\n",
       "8                      Mitoses   2.587868\n",
       "9                        Class  13.966760"
      ]
     },
     "execution_count": 17,
     "metadata": {},
     "output_type": "execute_result"
    }
   ],
   "source": [
    "from statsmodels.stats.outliers_influence import variance_inflation_factor\n",
    "vif = pd.DataFrame([variance_inflation_factor(df.values, df.columns.get_loc(i)) for i in df.columns],columns=['vif'])\n",
    "dfvif = pd.concat([pd.DataFrame(df.columns, columns=['Features']), vif],axis=1)\n",
    "dfvif"
   ]
  },
  {
   "cell_type": "markdown",
   "id": "94334247",
   "metadata": {},
   "source": [
    "The heatmap shows the correlation between each feature. We see that there is a strong corrlation between Uniformity_of_Cell_Size and Uniformity_of_Cell_Shape. The VIF value tells the same thing. \n",
    "\n",
    "We may choose one of Uniformity_of_Cell_Size and Uniformity_of_Cell_Shape for modelling as they are highly correlated. Here, we drop Uniformity_of_Cell_Size to proceed."
   ]
  },
  {
   "cell_type": "code",
   "execution_count": 18,
   "id": "c39be109",
   "metadata": {},
   "outputs": [],
   "source": [
    "df_whole = df\n",
    "df = df.loc[:, df.columns!='Uniformity_of_Cell_Size']"
   ]
  },
  {
   "cell_type": "markdown",
   "id": "6f3d8600",
   "metadata": {},
   "source": [
    "## Proposing models"
   ]
  },
  {
   "cell_type": "markdown",
   "id": "1e5e1172",
   "metadata": {},
   "source": [
    "There are many algorithms that can deal with the classification problem, either parametrically or non-parametrically. We propose one model for each, and will select the final model based on the performance. "
   ]
  },
  {
   "cell_type": "markdown",
   "id": "22f74ca2",
   "metadata": {},
   "source": [
    "### Parametric model - Logistic regression"
   ]
  },
  {
   "cell_type": "markdown",
   "id": "248f479b",
   "metadata": {},
   "source": [
    "Logistic regression is suitable here because  \n",
    "1. The result has binary outcome, e.g. benign or malignant, which satisfies the assumptions of logistic regression.\n",
    "2. We assume each observation is independent.\n",
    "3. We have removed the column Uniformity_of_Cell_Size to reduce multicolinearity. \n",
    "4. It is simple and efficient. "
   ]
  },
  {
   "cell_type": "code",
   "execution_count": 19,
   "id": "67e68b64",
   "metadata": {},
   "outputs": [],
   "source": [
    "from sklearn.linear_model import LogisticRegression\n",
    "from sklearn.model_selection import train_test_split\n",
    "from sklearn.preprocessing import StandardScaler\n",
    "from sklearn.metrics import classification_report\n",
    "from sklearn.metrics import confusion_matrix\n"
   ]
  },
  {
   "cell_type": "code",
   "execution_count": 20,
   "id": "5dbbaf41",
   "metadata": {},
   "outputs": [
    {
     "name": "stdout",
     "output_type": "stream",
     "text": [
      "training data: \n",
      " Class\n",
      "2        333\n",
      "4        179\n",
      "dtype: int64\n",
      "test data: \n",
      " Class\n",
      "2        111\n",
      "4         60\n",
      "dtype: int64\n"
     ]
    }
   ],
   "source": [
    "x_train, x_test, y_train, y_test = train_test_split(\n",
    "    df.loc[:, df.columns != 'Class'],\n",
    "    df.loc[:, df.columns =='Class'],\n",
    "    test_size=0.25,\n",
    "    random_state=1234)\n",
    "print('training data: \\n', y_train.value_counts())\n",
    "print('test data: \\n', y_test.value_counts())"
   ]
  },
  {
   "cell_type": "markdown",
   "id": "904b5697",
   "metadata": {},
   "source": [
    "To build the model, we randomly choose 75% of the data to be the training data, and the rest 25% of data to be the test data. "
   ]
  },
  {
   "cell_type": "markdown",
   "id": "e05bbc9d",
   "metadata": {},
   "source": [
    "To limit the impact of features with large scale, we need to standardize the scale of the data. Though in this case the scale of features are all at similar level, we still rescale the attributes so that they have mean 0 and variance 1 just to be safe. "
   ]
  },
  {
   "cell_type": "code",
   "execution_count": 21,
   "id": "22d9a527",
   "metadata": {},
   "outputs": [],
   "source": [
    "ss = StandardScaler()\n",
    "x_train_scaled = ss.fit_transform(x_train)\n",
    "x_test_scaled = ss.transform(x_test)\n"
   ]
  },
  {
   "cell_type": "code",
   "execution_count": 22,
   "id": "bb2bb6ea",
   "metadata": {},
   "outputs": [],
   "source": [
    "# create logistic regression and fit the data\n",
    "lr = LogisticRegression()\n",
    "lr.fit(x_train_scaled, y_train.values.ravel())\n",
    "lr_y_predict = lr.predict(x_test_scaled)"
   ]
  },
  {
   "cell_type": "code",
   "execution_count": 23,
   "id": "3aace9a3",
   "metadata": {},
   "outputs": [
    {
     "name": "stdout",
     "output_type": "stream",
     "text": [
      "Accuracy of LR Classifier:  0.9649122807017544\n"
     ]
    }
   ],
   "source": [
    "print('Accuracy of LR Classifier: ', lr.score(x_test_scaled, y_test))"
   ]
  },
  {
   "cell_type": "code",
   "execution_count": 24,
   "id": "fbf08122",
   "metadata": {},
   "outputs": [
    {
     "name": "stdout",
     "output_type": "stream",
     "text": [
      "              precision    recall  f1-score   support\n",
      "\n",
      "      Benign       0.98      0.96      0.97       111\n",
      "   Malignant       0.94      0.97      0.95        60\n",
      "\n",
      "    accuracy                           0.96       171\n",
      "   macro avg       0.96      0.97      0.96       171\n",
      "weighted avg       0.97      0.96      0.97       171\n",
      "\n"
     ]
    }
   ],
   "source": [
    "print(classification_report(y_test, lr_y_predict, target_names=['Benign', 'Malignant']))"
   ]
  },
  {
   "cell_type": "code",
   "execution_count": 25,
   "id": "d80c0195",
   "metadata": {},
   "outputs": [
    {
     "data": {
      "image/png": "[encoded data removed]",
      "text/plain": [
       "<Figure size 432x288 with 2 Axes>"
      ]
     },
     "metadata": {},
     "output_type": "display_data"
    }
   ],
   "source": [
    "# visualize the confusion matrix\n",
    "cm = pd.DataFrame(confusion_matrix(y_test, lr_y_predict), index=['Benign', 'Malignant'], columns=['Benign', 'Malignant'])\n",
    "\n",
    "sns.set()\n",
    "sns.heatmap(cm, annot=True, fmt=\"d\", xticklabels=['Benign', 'Malignant'], yticklabels=['Benign', 'Malignant'])\n",
    "plt.show()"
   ]
  },
  {
   "cell_type": "markdown",
   "id": "3160fada",
   "metadata": {},
   "source": [
    "We see that the model has around 96.5% accuracy for this particular test set and the precision, recall and f1 score are all relatively high.    \n",
    "To get some insights, we examine the importance of each feature, which is indicated by the coefficients of linear regression. "
   ]
  },
  {
   "cell_type": "code",
   "execution_count": 26,
   "id": "9006c57d",
   "metadata": {},
   "outputs": [
    {
     "data": {
      "image/png": "[encoded data removed]",
      "text/plain": [
       "<Figure size 432x288 with 1 Axes>"
      ]
     },
     "metadata": {},
     "output_type": "display_data"
    }
   ],
   "source": [
    "importances = pd.DataFrame(data={\n",
    "    'Feature': x_train.columns,\n",
    "    'Importance': lr.coef_[0]\n",
    "})\n",
    "importances = importances.sort_values(by='Importance', ascending=False)\n",
    "# visualize the importance\n",
    "plt.bar(x=importances['Feature'], height=importances['Importance'])\n",
    "plt.title('Feature importance indicated by coefficients')\n",
    "plt.xticks(rotation='vertical')\n",
    "plt.show()\n"
   ]
  },
  {
   "cell_type": "markdown",
   "id": "7ed18e42",
   "metadata": {},
   "source": [
    "We see that Clump Thickness is the most important feature for predicting whether a biopsied breast cell is benign and the Single Epithelial Cell Size is the least important feature. However, this is for this particular training set. \n",
    "To validate if logistic regression is good, we use 10-fold cross validation. "
   ]
  },
  {
   "cell_type": "code",
   "execution_count": 27,
   "id": "365f87ae",
   "metadata": {},
   "outputs": [
    {
     "name": "stdout",
     "output_type": "stream",
     "text": [
      "Average accuracy: 0.9664109121909634\n",
      "Standard deviation: 0.02349993365788225\n"
     ]
    }
   ],
   "source": [
    "from sklearn.model_selection import KFold\n",
    "from sklearn.model_selection import cross_val_score\n",
    "\n",
    "X = df.loc[:, df.columns != 'Class']\n",
    "y = df.loc[:, df.columns =='Class']\n",
    "x_cv_scaled = ss.fit_transform(X)\n",
    "\n",
    "# use 10-fold cross validation to validate the model\n",
    "cv_accuracy = cross_val_score(lr, x_cv_scaled, y.values.ravel(), scoring=\"accuracy\", cv=10)\n",
    "print(\"Average accuracy:\", cv_accuracy.mean())\n",
    "print(\"Standard deviation:\",cv_accuracy.std())"
   ]
  },
  {
   "cell_type": "markdown",
   "id": "3fa99958",
   "metadata": {},
   "source": [
    "10-fold cross validation gives 96.6% accuracy on average, and the 0.023 standard deviation shows that the model is stable. \n",
    "In medical context, we are also interest in the score of recall since it is important to detect all malignant cells.  \n",
    "So we perform 10-fold cross validation on the score of recall as well. I manually code the cross validation as the argument pos_label can't be added to cross_val_score function. "
   ]
  },
  {
   "cell_type": "code",
   "execution_count": 28,
   "id": "2c723d47",
   "metadata": {},
   "outputs": [
    {
     "name": "stdout",
     "output_type": "stream",
     "text": [
      "average recall: 0.9450248009071538\n"
     ]
    }
   ],
   "source": [
    "from sklearn.metrics import recall_score\n",
    "kf = KFold(n_splits=10, shuffle=True, random_state=123)\n",
    "cv_recall = []\n",
    "feature_imp = []\n",
    "\n",
    "for idx_train, idx_test in kf.split(X):\n",
    "    lr = LogisticRegression()\n",
    "    x_cv_scaled_train = ss.fit_transform(X.iloc[idx_train,:])\n",
    "    x_cv_scaled_test = ss.transform(X.iloc[idx_test,:])\n",
    "    y_cv_train = y.iloc[idx_train,:]\n",
    "    y_cv_test = y.iloc[idx_test,:]\n",
    "    lr.fit(x_cv_scaled_train, y_cv_train.values.ravel())\n",
    "    lr_cv_y_predict = lr.predict(x_cv_scaled_test)\n",
    "    cv_recall.append(recall_score(y_cv_test, lr_cv_y_predict, average=\"binary\", pos_label=4))\n",
    "    # As we have divided the data into folds, we can examine the average importance of each feature as well\n",
    "    feature_imp.append(lr.coef_[0]) # importance is indicated by coefficient\n",
    "    \n",
    "print('average recall:', np.array(cv_recall).mean())\n"
   ]
  },
  {
   "cell_type": "markdown",
   "id": "023adf34",
   "metadata": {},
   "source": [
    "The average recall is around 94.5%, which is lower than the average percision but still quite high. \n",
    "We may conclude that logistic regression performs well in this problem. "
   ]
  },
  {
   "cell_type": "code",
   "execution_count": 29,
   "id": "ba2ad8db",
   "metadata": {},
   "outputs": [
    {
     "data": {
      "text/plain": [
       "Clump_Thickness                1.334482\n",
       "Uniformity_of_Cell_Shape       0.933790\n",
       "Marginal_Adhesion              0.825221\n",
       "Single_Epithelial_Cell_Size    0.267004\n",
       "Bare_Nuclei                    1.304310\n",
       "Bland_Chromatin                0.968724\n",
       "Normal_Nucleoli                0.629879\n",
       "Mitoses                        0.731992\n",
       "dtype: float64"
      ]
     },
     "execution_count": 29,
     "metadata": {},
     "output_type": "execute_result"
    }
   ],
   "source": [
    "feature_imp_df = pd.DataFrame(data=feature_imp,columns=X.columns)\n",
    "feature_imp_df.mean()"
   ]
  },
  {
   "cell_type": "markdown",
   "id": "c97fe418",
   "metadata": {},
   "source": [
    "We see that clump thickness and bare nuclei are the most important features. Single eplithelial cell size is the least important one. "
   ]
  },
  {
   "cell_type": "code",
   "execution_count": 30,
   "id": "9d945138",
   "metadata": {},
   "outputs": [
    {
     "data": {
      "image/png": "[encoded data removed]",
      "text/plain": [
       "<Figure size 432x288 with 1 Axes>"
      ]
     },
     "metadata": {},
     "output_type": "display_data"
    }
   ],
   "source": [
    "# Visualize the classification result\n",
    "color = ['blue' if l == 4 else 'green' for l in y_train['Class']]\n",
    "plt.scatter(x_train['Clump_Thickness'], x_train['Bare_Nuclei'], color=color)\n",
    "plt.xlabel(\"Clump_Thickness\")\n",
    "plt.ylabel(\"Bare_Nuclei\")\n",
    "misclassified = x_test[list(y_test['Class']) != lr_y_predict]\n",
    "plt.scatter(x_test['Clump_Thickness'], x_test['Bare_Nuclei'],color='yellow',marker='v')\n",
    "plt.scatter(misclassified['Clump_Thickness'], misclassified['Bare_Nuclei'], color='red',marker='v')\n",
    "plt.show()"
   ]
  },
  {
   "cell_type": "markdown",
   "id": "bd488d2f",
   "metadata": {},
   "source": [
    "This is the scatterplot showing the two most important features and the classification result. The dots are the training set where blue indicates malignant cells and green indicates benign cells. The triangles are the test set where yellow ones are correctly classified and red ones are misclassified.   \n",
    "Misclassification happens near the boundary as shown in the graph. \n",
    "The real decision boundary is hard to visualize as it is of high dimension. "
   ]
  },
  {
   "cell_type": "markdown",
   "id": "108345a2",
   "metadata": {},
   "source": [
    "### Non-parametric model - KNN"
   ]
  },
  {
   "cell_type": "markdown",
   "id": "3376f355",
   "metadata": {},
   "source": [
    "KNN supports non-linear decision boundaries, requires no assumptions on the original data, and is more robust to outliers compared to logistic regression. \n",
    "So we propose KNN algorithm to see if it has improvement. \n",
    "\n",
    "\n"
   ]
  },
  {
   "cell_type": "code",
   "execution_count": 31,
   "id": "8cabe449",
   "metadata": {},
   "outputs": [],
   "source": [
    "from sklearn.neighbors import KNeighborsClassifier"
   ]
  },
  {
   "cell_type": "code",
   "execution_count": 32,
   "id": "8b891b63",
   "metadata": {},
   "outputs": [],
   "source": [
    "# split the data into training and test set, and standardize them\n",
    "# we use the all attributes here since the multicolinearity issue is not important for KNN\n",
    "x_train, x_test, y_train, y_test = train_test_split(\n",
    "    df_whole.loc[:, df_whole.columns != 'Class'],\n",
    "    df_whole.loc[:, df_whole.columns =='Class'],\n",
    "    test_size=0.25,\n",
    "    random_state=1234)\n",
    "\n",
    "ss = StandardScaler()\n",
    "x_train_scaled = ss.fit_transform(x_train)\n",
    "x_test_scaled = ss.transform(x_test)"
   ]
  },
  {
   "cell_type": "code",
   "execution_count": 33,
   "id": "73407615",
   "metadata": {},
   "outputs": [],
   "source": [
    "knn = KNeighborsClassifier(n_neighbors=5)\n",
    "knn.fit(x_train_scaled, y_train.values.ravel())\n",
    "knn_y_predict = knn.predict(x_test_scaled)"
   ]
  },
  {
   "cell_type": "code",
   "execution_count": 34,
   "id": "8283d865",
   "metadata": {},
   "outputs": [
    {
     "name": "stdout",
     "output_type": "stream",
     "text": [
      "Accuracy of KNN Classifier:  0.9649122807017544\n",
      "              precision    recall  f1-score   support\n",
      "\n",
      "      Benign       0.98      0.96      0.97       111\n",
      "   Malignant       0.94      0.97      0.95        60\n",
      "\n",
      "    accuracy                           0.96       171\n",
      "   macro avg       0.96      0.97      0.96       171\n",
      "weighted avg       0.97      0.96      0.97       171\n",
      "\n"
     ]
    }
   ],
   "source": [
    "print('Accuracy of KNN Classifier: ', knn.score(x_test_scaled, y_test))\n",
    "print(classification_report(y_test, knn_y_predict, target_names=['Benign', 'Malignant']))"
   ]
  },
  {
   "cell_type": "markdown",
   "id": "ece2537e",
   "metadata": {},
   "source": [
    "KNN algorithm gives similar results as linear regression on the same test data when k=5. \n",
    "Next we use 10-fold cross validation to find the best k. "
   ]
  },
  {
   "cell_type": "code",
   "execution_count": 35,
   "id": "5ae9b546",
   "metadata": {},
   "outputs": [
    {
     "name": "stdout",
     "output_type": "stream",
     "text": [
      "Average accuracy: 0.9693307757885762\n",
      "Standard deviation: 0.026381764271218577\n"
     ]
    }
   ],
   "source": [
    "X = df_whole.loc[:, df_whole.columns != 'Class']\n",
    "y = df_whole.loc[:, df_whole.columns =='Class']\n",
    "x_cv_scaled = ss.fit_transform(X)\n",
    "\n",
    "# use 10-fold cross validation to validate the model\n",
    "cv_knn_accuracy = cross_val_score(knn, x_cv_scaled, y.values.ravel(), scoring=\"accuracy\", cv=10)\n",
    "print(\"Average accuracy:\", cv_knn_accuracy.mean())\n",
    "print(\"Standard deviation:\",cv_knn_accuracy.std())\n"
   ]
  },
  {
   "cell_type": "markdown",
   "id": "e501c4fa",
   "metadata": {},
   "source": [
    "10-fold cross validation gives 96.9% accuracy on average which is a little bit better than logistic regression, and the model is less stable than logistic regression as it has higher standard deviation. \n",
    "We can also find the optimal k from the cross validation by trying k=1 to 10 and check the accuracy. "
   ]
  },
  {
   "cell_type": "code",
   "execution_count": 36,
   "id": "d6a2db97",
   "metadata": {},
   "outputs": [
    {
     "data": {
      "image/png": "[encoded data removed]",
      "text/plain": [
       "<Figure size 432x288 with 1 Axes>"
      ]
     },
     "metadata": {},
     "output_type": "display_data"
    },
    {
     "name": "stdout",
     "output_type": "stream",
     "text": [
      "Accuracy score when k=8:  0.9708013640238704\n"
     ]
    }
   ],
   "source": [
    "accuracy = []\n",
    "krange=range(1,11)\n",
    "\n",
    "for i in krange:\n",
    "    knn = KNeighborsClassifier(n_neighbors = i)\n",
    "    knn_cv_accuracy=cross_val_score(knn, x_cv_scaled, y.values.ravel(),scoring='accuracy',cv=10)\n",
    "    accuracy.append(knn_cv_accuracy.mean())\n",
    "    \n",
    "    \n",
    "plt.plot(krange,accuracy)\n",
    "plt.xlabel('number of k')\n",
    "plt.title(\"Accuracy score for different k\")\n",
    "plt.show()\n",
    "print(\"Accuracy score when k=8: \",max(accuracy))"
   ]
  },
  {
   "cell_type": "markdown",
   "id": "1b1831cf",
   "metadata": {},
   "source": [
    "We see that the optimal k is k=8 as it has the highest accuracy. "
   ]
  },
  {
   "cell_type": "code",
   "execution_count": 37,
   "id": "566bfadc",
   "metadata": {},
   "outputs": [
    {
     "name": "stdout",
     "output_type": "stream",
     "text": [
      "average recall: 0.9426808485632016\n"
     ]
    }
   ],
   "source": [
    "from sklearn.metrics import recall_score\n",
    "kf = KFold(n_splits=10, shuffle=True, random_state=123)\n",
    "cv_knn_recall = []\n",
    "\n",
    "for idx_train, idx_test in kf.split(X):\n",
    "    knn = KNeighborsClassifier(n_neighbors = 8)\n",
    "    x_cv_scaled_train = ss.fit_transform(X.iloc[idx_train,:])\n",
    "    x_cv_scaled_test = ss.transform(X.iloc[idx_test,:])\n",
    "    y_cv_train = y.iloc[idx_train,:]\n",
    "    y_cv_test = y.iloc[idx_test,:]\n",
    "    knn.fit(x_cv_scaled_train, y_cv_train.values.ravel())\n",
    "    knn_cv_y_predict = knn.predict(x_cv_scaled_test)\n",
    "    cv_recall.append(recall_score(y_cv_test, knn_cv_y_predict, average=\"binary\", pos_label=4))\n",
    "\n",
    "    \n",
    "print('average recall:', np.array(cv_recall).mean())"
   ]
  },
  {
   "cell_type": "markdown",
   "id": "8ffc09ce",
   "metadata": {},
   "source": [
    "The average score of recall is lower than logistic regression, although KNN with optimal k has higher accuracy. "
   ]
  },
  {
   "cell_type": "markdown",
   "id": "1744406b",
   "metadata": {},
   "source": [
    "## Conclusion"
   ]
  },
  {
   "cell_type": "markdown",
   "id": "e64d63aa",
   "metadata": {},
   "source": [
    "In conclusion, the logistic regression model is the best model for this classification task since\n",
    "1. KNN and logistic regression have similar performance, but logistic regression is simplier and requries less computing time and memory. \n",
    "2. The recall is important in medical analysis as we want to discover every positive case. Logistic regression has better performance for the recall. \n",
    "3. As logistic regression model is parametric, we can provide other statistical insights such as the confidence interval when predicting the labels for breast cells. "
   ]
  },
  {
   "cell_type": "markdown",
   "id": "1ce73088",
   "metadata": {},
   "source": []
  }
 ],
 "metadata": {
  "kernelspec": {
   "display_name": "Python 3",
   "language": "python",
   "name": "python3"
  },
  "language_info": {
   "codemirror_mode": {
    "name": "ipython",
    "version": 3
   },
   "file_extension": ".py",
   "mimetype": "text/x-python",
   "name": "python",
   "nbconvert_exporter": "python",
   "pygments_lexer": "ipython3",
   "version": "3.6.10"
  },
  "vscode": {
   "interpreter": {
    "hash": "1b9f4ecda4331c90fa315fdd73ec03856897594338d0e5bf08d6dbb65ff6e7b4"
   }
  }
 },
 "nbformat": 4,
 "nbformat_minor": 5
}
